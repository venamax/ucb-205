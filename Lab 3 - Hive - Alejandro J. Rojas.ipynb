{
 "cells": [
  {
   "cell_type": "markdown",
   "metadata": {},
   "source": [
    "# Lab 3: Hive "
   ]
  },
  {
   "cell_type": "markdown",
   "metadata": {},
   "source": [
    "Before answering the questions below, Lab 3 asked us to perform a series of operations in Hive. "
   ]
  },
  {
   "cell_type": "markdown",
   "metadata": {},
   "source": [
    "Q1 : Where data for a Managed table is stored?"
   ]
  },
  {
   "cell_type": "markdown",
   "metadata": {},
   "source": [
    "Data for the Managed table is stored in the user/hive/warehouse folder. It is presumed that this data will only be used by Hive."
   ]
  },
  {
   "cell_type": "markdown",
   "metadata": {},
   "source": [
    "Q2 : Will the data for an external table drop if the table is dropped?"
   ]
  },
  {
   "cell_type": "markdown",
   "metadata": {},
   "source": [
    "No. This is the advantage of using an external table. It is presumed that this data is also being used by other processes. When the table is dropped, Hive will only drop the metadata associated to the data but not the data itself."
   ]
  },
  {
   "cell_type": "markdown",
   "metadata": {},
   "source": [
    "Q3 : What is the difference between a RC and an ORC file format?"
   ]
  },
  {
   "cell_type": "markdown",
   "metadata": {},
   "source": [
    "ORC is an optimized version of an RC file. It includes compression so it take less storage space. It is also suppose to be faster to access and query."
   ]
  },
  {
   "cell_type": "markdown",
   "metadata": {},
   "source": [
    "Q4 : In which case, you would use Parquet file?"
   ]
  },
  {
   "cell_type": "markdown",
   "metadata": {},
   "source": [
    "Parquet is a columnar storage format. You would use it to compress your storage requirements as its is very efficient and if your queries typically involve one column out of many columns available."
   ]
  },
  {
   "cell_type": "markdown",
   "metadata": {},
   "source": [
    "Q5 : What are the compression types allowed while using Parquet file?"
   ]
  },
  {
   "cell_type": "markdown",
   "metadata": {},
   "source": [
    "Snappy and gzip aiming for high speed and reasonable compression."
   ]
  }
 ],
 "metadata": {
  "kernelspec": {
   "display_name": "Python 2",
   "language": "python",
   "name": "python2"
  },
  "language_info": {
   "codemirror_mode": {
    "name": "ipython",
    "version": 2
   },
   "file_extension": ".py",
   "mimetype": "text/x-python",
   "name": "python",
   "nbconvert_exporter": "python",
   "pygments_lexer": "ipython2",
   "version": "2.7.10"
  }
 },
 "nbformat": 4,
 "nbformat_minor": 0
}
