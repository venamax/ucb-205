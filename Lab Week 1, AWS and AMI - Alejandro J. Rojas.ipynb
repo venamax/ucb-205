{
 "cells": [
  {
   "cell_type": "markdown",
   "metadata": {
    "slideshow": {
     "slide_type": "subslide"
    }
   },
   "source": [
    "This notebook summarizes the questions for Lab Week 1 related to the creation of AWS instances. Prior to answering the question I created a AWS instance using a pre-baked AMI provided in the intructions. I then proceed to check the availability of the software packages listed on the assignment. With the exception of Apache Sqoop and Cloudera Express, I was able to locate all other software packages listed on the assignment."
   ]
  },
  {
   "cell_type": "markdown",
   "metadata": {},
   "source": [
    "Q1: What is an AMI?"
   ]
  },
  {
   "cell_type": "markdown",
   "metadata": {},
   "source": [
    "AMI stands for Amazon Machine Image which is a tool that AWS provide so that you can easily launch instances that are pre-configured. AMI can also be shared across users so that you can replicate development environments on the fly without the need to make sure that you have consistent configurations. It also offers the advantage of instant replication in the case that the server launched using the AMI goes down."
   ]
  },
  {
   "cell_type": "markdown",
   "metadata": {},
   "source": [
    "Q2: When would you consider a cloud infrastructure?"
   ]
  },
  {
   "cell_type": "markdown",
   "metadata": {},
   "source": [
    "Whenever you're looking for speed of implementation and scalability. It also offers the cashflow advantage so that you pay a rental fee for the services you need without having to make huge investments upfront. Essentially a cloud infrastructure lets you adjust your provisioning services and pay only what you need."
   ]
  },
  {
   "cell_type": "markdown",
   "metadata": {},
   "source": [
    "Q3: What are the types of servers readily available on EC2?"
   ]
  },
  {
   "cell_type": "markdown",
   "metadata": {},
   "source": [
    "There are many type of servers that are grouped across four families:\n",
    "\n",
    "1) General purpose -> Usually provide a balanced mix between computation (CPU), memory speed, network speed and storage speed. Like all families it provides the advantage of easily accomadating burstable traffic through a set of automatica of manual instructions (Auto Scaling Groups). It's a great starting point for many general purpose applications.\n",
    "\n",
    "2) Compute optimized -> Provide the highest performing processors leading to the lowest cost per computation. Ideal for computational intensive applications.\n",
    "\n",
    "3) Storage optimized -> Design to accomodate application that store big amounts of data. It offers either SSD backed storage with great IOPS cost performance or HDD backed storage with the lowest price per disk throughput performance. These are ideal for running Map Reduce and Hadoop.\n",
    "\n",
    "4) Graphics optimized -> These have NVDIA graphic cards that provide high performance for graphic intensive applications such as video encoding and 3D modeling.\n",
    "\n",
    "5) Memory optimized -> Offer the lowest cost per Gig of RAM. This is ideal for flash memory and cached memory intensive applications such as high-performance databases, in-memory analytics and enterprise software platforms such as Sharepoint and SAP"
   ]
  },
  {
   "cell_type": "markdown",
   "metadata": {},
   "source": [
    "Q4: What are S3 and EBS?"
   ]
  },
  {
   "cell_type": "markdown",
   "metadata": {},
   "source": [
    "S3 and EBS are storage systems available at AWS. \n",
    "\n",
    "S3 stores elements as objects that can be access through api calls so it is very flexible and accesible to anyone. \n",
    "\n",
    "EBS stores elements in a filing system that can be attached to any server (instance) as required. EBS storage provides faster and more consistent Input/Output throughput.\n",
    "\n",
    "S3 offers redundancy with at least 99.99% durability and 99.99% availability. Durability can be designed to be even higher so the loss of data in case of a total failure is very minimal. \n",
    "\n",
    "EBS is a stand-alone storage system that continues to hold on to its data even if its attached server is terminated. However it can only be used in one server. If you need to access the data from multiple servers you need to create EBS replicas that are attached to each individual server.\n",
    "\n",
    "S3 is less expensive than EBS. In some cases it can even allow you reduce your storage cost by more than 50%. However, all elements are stored as objects which makes their retrieval take longer. EBS are ideal to store items that need to be accessed locally and quickly and are more suitable for read-only applications.\n",
    "\n"
   ]
  }
 ],
 "metadata": {
  "kernelspec": {
   "display_name": "Python 2",
   "language": "python",
   "name": "python2"
  },
  "language_info": {
   "codemirror_mode": {
    "name": "ipython",
    "version": 2
   },
   "file_extension": ".py",
   "mimetype": "text/x-python",
   "name": "python",
   "nbconvert_exporter": "python",
   "pygments_lexer": "ipython2",
   "version": "2.7.10"
  }
 },
 "nbformat": 4,
 "nbformat_minor": 0
}
