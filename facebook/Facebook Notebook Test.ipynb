{
 "cells": [
  {
   "cell_type": "code",
   "execution_count": 46,
   "metadata": {
    "collapsed": false
   },
   "outputs": [
    {
     "name": "stdout",
     "output_type": "stream",
     "text": [
      "210412405693448|AwMpl3F1en-79qhUnNOtyPBbsIU\n"
     ]
    }
   ],
   "source": [
    "import requests\n",
    "import json\n",
    "from pprint import pprint\n",
    "### Get access token \n",
    "consumer_key = '210412405693448'\n",
    "consumer_secret = '177fe950d29470dcee451a384636b787'\n",
    "auth_link = 'https://graph.facebook.com/oauth/access_token?grant_type=client_credentials&client_id=%s&client_secret=%s'%(consumer_key,consumer_secret)\n",
    "r = requests.get(auth_link)\n",
    "access_token = r.text.split('=')[1]\n",
    "print access_token\n"
   ]
  },
  {
   "cell_type": "code",
   "execution_count": 64,
   "metadata": {
    "collapsed": false
   },
   "outputs": [
    {
     "name": "stdout",
     "output_type": "stream",
     "text": [
      "Click here to see ids of relevant pages for the search term employed: https://graph.facebook.com/search?q=%23kitesurfing&type=page&fields=id&access_token=210412405693448|AwMpl3F1en-79qhUnNOtyPBbsIU\n",
      "This is the page id that we will explore to find relevant videos as an example: {\"data\":[{\"id\":\"188221928026241\"}\n",
      "This is the number id that we will input to find video metrics: 188221928026241\n",
      "Click here to find revelant videos from the page selected and its metrics: https://graph.facebook.com/v2.5/188221928026241/videos?&fields=permalink_url,sharedposts,likes,comments&access_token=210412405693448|AwMpl3F1en-79qhUnNOtyPBbsIU\n"
     ]
    },
    {
     "ename": "KeyError",
     "evalue": "'sharedposts'",
     "output_type": "error",
     "traceback": [
      "\u001b[0;31m---------------------------------------------------------------------------\u001b[0m",
      "\u001b[0;31mKeyError\u001b[0m                                  Traceback (most recent call last)",
      "\u001b[0;32m<ipython-input-64-9c41fe64ecdf>\u001b[0m in \u001b[0;36m<module>\u001b[0;34m()\u001b[0m\n\u001b[1;32m     26\u001b[0m \u001b[0;32mprint\u001b[0m \u001b[0;34m'Click here to find revelant videos from the page selected and its metrics:'\u001b[0m\u001b[0;34m,\u001b[0m\u001b[0mvideo_link\u001b[0m\u001b[0;34m\u001b[0m\u001b[0m\n\u001b[1;32m     27\u001b[0m \u001b[0;31m###print json.dumps(video_search, sort_keys=True, separators=(',', ': '))\u001b[0m\u001b[0;34m\u001b[0m\u001b[0;34m\u001b[0m\u001b[0m\n\u001b[0;32m---> 28\u001b[0;31m \u001b[0mpprint\u001b[0m \u001b[0;34m(\u001b[0m\u001b[0mvideo_stream\u001b[0m\u001b[0;34m[\u001b[0m\u001b[0;34m'data'\u001b[0m\u001b[0;34m]\u001b[0m\u001b[0;34m[\u001b[0m\u001b[0;36m0\u001b[0m\u001b[0;34m]\u001b[0m\u001b[0;34m[\u001b[0m\u001b[0;34m'sharedposts'\u001b[0m\u001b[0;34m]\u001b[0m\u001b[0;34m[\u001b[0m\u001b[0;34m'data'\u001b[0m\u001b[0;34m]\u001b[0m\u001b[0;34m)\u001b[0m\u001b[0;34m\u001b[0m\u001b[0m\n\u001b[0m\u001b[1;32m     29\u001b[0m \u001b[0mpprint\u001b[0m \u001b[0;34m(\u001b[0m\u001b[0mvideo_stream\u001b[0m\u001b[0;34m[\u001b[0m\u001b[0;34m'data'\u001b[0m\u001b[0;34m]\u001b[0m\u001b[0;34m[\u001b[0m\u001b[0;36m1\u001b[0m\u001b[0;34m]\u001b[0m\u001b[0;34m[\u001b[0m\u001b[0;34m'comments'\u001b[0m\u001b[0;34m]\u001b[0m\u001b[0;34m[\u001b[0m\u001b[0;34m'data'\u001b[0m\u001b[0;34m]\u001b[0m\u001b[0;34m)\u001b[0m\u001b[0;34m\u001b[0m\u001b[0m\n\u001b[1;32m     30\u001b[0m \u001b[0mpprint\u001b[0m \u001b[0;34m(\u001b[0m\u001b[0mvideo_stream\u001b[0m\u001b[0;34m[\u001b[0m\u001b[0;34m'data'\u001b[0m\u001b[0;34m]\u001b[0m\u001b[0;34m[\u001b[0m\u001b[0;36m1\u001b[0m\u001b[0;34m]\u001b[0m\u001b[0;34m[\u001b[0m\u001b[0;34m'likes'\u001b[0m\u001b[0;34m]\u001b[0m\u001b[0;34m[\u001b[0m\u001b[0;34m'data'\u001b[0m\u001b[0;34m]\u001b[0m\u001b[0;34m)\u001b[0m\u001b[0;34m\u001b[0m\u001b[0m\n",
      "\u001b[0;31mKeyError\u001b[0m: 'sharedposts'"
     ]
    }
   ],
   "source": [
    "##### Here's an example using a single term search that extract only videos from one page \n",
    "\n",
    "\n",
    "### Let's pick a search term\n",
    "userSearchparameter = '%23kitesurfing'\n",
    "### Let's search for pages relevant for the search term\n",
    "searchtype='page&fields=id'\n",
    "### Let's create the http search link according to Facebook API\n",
    "search_link = 'https://graph.facebook.com/search?q=%s&type=%s&access_token=%s'%(userSearchparameter, searchtype, access_token)\n",
    "### Let's define a variable search to store response from Facebook API\n",
    "search = requests.get(search_link)\n",
    "### Let's extract relevant pageids\n",
    "page_json = search.json()\n",
    "for i in range (1):\n",
    "##for i in range(len(pageid_json['data'])):\n",
    "    page_num = pageid_json['data'][i]['id']\n",
    "### Let's define a video_link that shows videos from relevant pages with its shares, likes, and comments\n",
    "    video_link = 'https://graph.facebook.com/v2.5/%s/videos?&fields=permalink_url,sharedposts,likes,comments&access_token=%s'%(page_num,access_token)\n",
    "### Let's define a variable video_search to store response from Facebook API\n",
    "    video_search = requests.get(video_link)\n",
    "    video_stream = video_search.json()\n",
    "\n",
    "print 'Click here to see ids of relevant pages for the search term employed:', search_link\n",
    "print 'This is the page id that we will explore to find relevant videos as an example:', pageid\n",
    "print 'This is the number id that we will input to find video metrics:', page_num\n",
    "print 'Click here to find revelant videos from the page selected and its metrics:',video_link\n",
    "###print json.dumps(video_search, sort_keys=True, separators=(',', ': '))\n",
    "pprint (video_stream['data'][0]['sharedposts']['data'])\n",
    "pprint (video_stream['data'][1]['comments']['data'])\n",
    "pprint (video_stream['data'][1]['likes']['data'])\n",
    "pprint (video_stream['data'][1]['permalink_url'])\n",
    "pprint (video_stream['data'][1]['id'])"
   ]
  },
  {
   "cell_type": "code",
   "execution_count": null,
   "metadata": {
    "collapsed": true
   },
   "outputs": [],
   "source": []
  }
 ],
 "metadata": {
  "kernelspec": {
   "display_name": "Python 2",
   "language": "python",
   "name": "python2"
  },
  "language_info": {
   "codemirror_mode": {
    "name": "ipython",
    "version": 2
   },
   "file_extension": ".py",
   "mimetype": "text/x-python",
   "name": "python",
   "nbconvert_exporter": "python",
   "pygments_lexer": "ipython2",
   "version": "2.7.10"
  }
 },
 "nbformat": 4,
 "nbformat_minor": 0
}
