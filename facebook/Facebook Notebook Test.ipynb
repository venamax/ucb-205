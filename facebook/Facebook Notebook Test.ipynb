{
 "cells": [
  {
   "cell_type": "code",
   "execution_count": 108,
   "metadata": {
    "collapsed": false
   },
   "outputs": [
    {
     "name": "stdout",
     "output_type": "stream",
     "text": [
      "210412405693448|AwMpl3F1en-79qhUnNOtyPBbsIU\n"
     ]
    }
   ],
   "source": [
    "import requests\n",
    "\n",
    "### Get access token \n",
    "r = requests.get('https://graph.facebook.com/oauth/access_token?grant_type=client_credentials&client_id=210412405693448&client_secret=177fe950d29470dcee451a384636b787')\n",
    "access_token = r.text.split('=')[1]\n",
    "print access_token"
   ]
  },
  {
   "cell_type": "code",
   "execution_count": 129,
   "metadata": {
    "collapsed": false
   },
   "outputs": [
    {
     "name": "stdout",
     "output_type": "stream",
     "text": [
      "Click here to see ids of relevant pages for the search term employed: https://graph.facebook.com/search?q=%23kitesurfing&type=page&fields=id&access_token=210412405693448|AwMpl3F1en-79qhUnNOtyPBbsIU\n",
      "511 pages were selected.\n",
      "This is the page id that we will explore to find relevant videos as an example: {\"id\":\"275779205921825\"}\n",
      "This is the number id that we will input to find video metrics: 275779205921825\n",
      "Click here to find revelant videos from the page selected and its metrics: https://graph.facebook.com/v2.5/275779205921825/videos?&fields=permalink_url,sharedposts,likes,comments&access_token=210412405693448|AwMpl3F1en-79qhUnNOtyPBbsIU\n"
     ]
    }
   ],
   "source": [
    "##### Here's an example using a single term search that extract only videos from one page \n",
    "\n",
    "\n",
    "### Let's pick a search term\n",
    "userSearchparameter = '%23kitesurfing'\n",
    "### Let's search for pages relevant for the search term\n",
    "searchtype='page&fields=id'\n",
    "### Let's create the http search link according to Facebook API\n",
    "search_link = 'https://graph.facebook.com/search?q=%s&type=%s&access_token=%s'%(userSearchparameter, searchtype, access_token)\n",
    "### Let's define a variable search to store response from Facebook API\n",
    "search = requests.get(search_link)\n",
    "video_list = []\n",
    "### Let's extract relevant pageids\n",
    "\n",
    "pageid = search.text.split(',')[2] \n",
    "page_num = pageid.split('\"')[3]\n",
    "### Let's define a video_link that shows videos from relevant pages with its shares, likes, and comments\n",
    "video_link = 'https://graph.facebook.com/v2.5/%s/videos?&fields=permalink_url,sharedposts,likes,comments&access_token=%s'%(page_num,access_token)\n",
    "\n",
    "\n",
    "### Let's define a variable video_search to store response from Facebook API\n",
    "video_search = requests.get(video_link)\n",
    "video_list.append(video_search)\n",
    "\n",
    "\n",
    "print 'Click here to see ids of relevant pages for the search term employed:', search_link\n",
    "print len(search.text.split(',')), 'pages were selected.'\n",
    "print 'This is the page id that we will explore to find relevant videos as an example:', pageid\n",
    "print 'This is the number id that we will input to find video metrics:', page_num\n",
    "print 'Click here to find revelant videos from the page selected and its metrics:',video_link\n"
   ]
  },
  {
   "cell_type": "code",
   "execution_count": null,
   "metadata": {
    "collapsed": true
   },
   "outputs": [],
   "source": []
  }
 ],
 "metadata": {
  "kernelspec": {
   "display_name": "Python 2",
   "language": "python",
   "name": "python2"
  },
  "language_info": {
   "codemirror_mode": {
    "name": "ipython",
    "version": 2
   },
   "file_extension": ".py",
   "mimetype": "text/x-python",
   "name": "python",
   "nbconvert_exporter": "python",
   "pygments_lexer": "ipython2",
   "version": "2.7.10"
  }
 },
 "nbformat": 4,
 "nbformat_minor": 0
}
