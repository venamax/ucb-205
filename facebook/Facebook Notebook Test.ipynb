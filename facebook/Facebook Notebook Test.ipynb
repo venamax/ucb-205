{
 "cells": [
  {
   "cell_type": "code",
   "execution_count": 1,
   "metadata": {
    "collapsed": true
   },
   "outputs": [],
   "source": [
    "import facebook"
   ]
  },
  {
   "cell_type": "code",
   "execution_count": 3,
   "metadata": {
    "collapsed": false
   },
   "outputs": [
    {
     "ename": "ImportError",
     "evalue": "No module named facepy.graph_api",
     "output_type": "error",
     "traceback": [
      "\u001b[0;31m---------------------------------------------------------------------------\u001b[0m",
      "\u001b[0;31mImportError\u001b[0m                               Traceback (most recent call last)",
      "\u001b[0;32m<ipython-input-3-77bff7a67cab>\u001b[0m in \u001b[0;36m<module>\u001b[0;34m()\u001b[0m\n\u001b[1;32m      6\u001b[0m     \u001b[0;32mfrom\u001b[0m \u001b[0murlparse\u001b[0m \u001b[0;32mimport\u001b[0m \u001b[0mparse_qs\u001b[0m\u001b[0;34m\u001b[0m\u001b[0m\n\u001b[1;32m      7\u001b[0m \u001b[0;34m\u001b[0m\u001b[0m\n\u001b[0;32m----> 8\u001b[0;31m \u001b[0;32mfrom\u001b[0m \u001b[0mfacepy\u001b[0m\u001b[0;34m.\u001b[0m\u001b[0mgraph_api\u001b[0m \u001b[0;32mimport\u001b[0m \u001b[0mGraphAPI\u001b[0m\u001b[0;34m\u001b[0m\u001b[0m\n\u001b[0m\u001b[1;32m      9\u001b[0m \u001b[0;34m\u001b[0m\u001b[0m\n\u001b[1;32m     10\u001b[0m \u001b[0;34m\u001b[0m\u001b[0m\n",
      "\u001b[0;31mImportError\u001b[0m: No module named facepy.graph_api"
     ]
    }
   ],
   "source": [
    "from datetime import datetime, timedelta\n",
    "\n",
    "try:\n",
    "    from urllib.parse import parse_qs\n",
    "except ImportError:\n",
    "    from urlparse import parse_qs\n",
    "\n",
    "from facepy.graph_api import GraphAPI\n",
    "\n",
    "\n",
    "def get_extended_access_token(access_token, application_id, application_secret_key, api_version=None):\n",
    "    \"\"\"\n",
    "    Get an extended OAuth access token.\n",
    "    :param access_token: A string describing an OAuth access token.\n",
    "    :param application_id: An integer describing the Facebook application's ID.\n",
    "    :param application_secret_key: A string describing the Facebook application's secret key.\n",
    "    Returns a tuple with a string describing the extended access token and a datetime instance\n",
    "    describing when it expires.\n",
    "    \"\"\"\n",
    "    graph = GraphAPI(version=api_version)\n",
    "\n",
    "    response = graph.get(\n",
    "        path='oauth/access_token',\n",
    "        client_id=application_id,\n",
    "        client_secret=application_secret_key,\n",
    "        grant_type='fb_exchange_token',\n",
    "        fb_exchange_token=access_token\n",
    "    )\n",
    "\n",
    "    try:\n",
    "        components = parse_qs(response)\n",
    "    except AttributeError:  # api_version >= 2.3 returns a dict\n",
    "        return response['access_token'], None\n",
    "\n",
    "    token = components['access_token'][0]\n",
    "\n",
    "    try:\n",
    "        expires_at = datetime.now() + timedelta(seconds=int(components['expires'][0]))\n",
    "    except KeyError:  # there is no expiration\n",
    "        expires_at = None\n",
    "\n",
    "    return token, expires_at\n",
    "\n",
    "\n",
    "def get_application_access_token(application_id, application_secret_key, api_version=None):\n",
    "    \"\"\"\n",
    "    Get an OAuth access token for the given application.\n",
    "    :param application_id: An integer describing a Facebook application's ID.\n",
    "    :param application_secret_key: A string describing a Facebook application's secret key.\n",
    "    \"\"\"\n",
    "    graph = GraphAPI(version=api_version)\n",
    "\n",
    "    response = graph.get(\n",
    "        path='oauth/access_token',\n",
    "        client_id='210412405693448',\n",
    "        client_secret='177fe950d29470dcee451a384636b787',\n",
    "        grant_type='client_credentials'\n",
    "    )\n",
    "\n",
    "    data = parse_qs(response)\n",
    "\n",
    "    try:\n",
    "        return data['access_token'][0]\n",
    "    except KeyError:\n",
    "        raise GraphAPI.FacebookError('No access token given')"
   ]
  },
  {
   "cell_type": "code",
   "execution_count": 4,
   "metadata": {
    "collapsed": false
   },
   "outputs": [
    {
     "ename": "IOError",
     "evalue": "[Errno 2] No such file or directory: 'README.rst'",
     "output_type": "error",
     "traceback": [
      "\u001b[0;31m---------------------------------------------------------------------------\u001b[0m",
      "\u001b[0;31mIOError\u001b[0m                                   Traceback (most recent call last)",
      "\u001b[0;32m<ipython-input-4-226d2959fd77>\u001b[0m in \u001b[0;36m<module>\u001b[0;34m()\u001b[0m\n\u001b[1;32m      1\u001b[0m \u001b[0;32mfrom\u001b[0m \u001b[0msetuptools\u001b[0m \u001b[0;32mimport\u001b[0m \u001b[0msetup\u001b[0m\u001b[0;34m\u001b[0m\u001b[0m\n\u001b[1;32m      2\u001b[0m \u001b[0;34m\u001b[0m\u001b[0m\n\u001b[0;32m----> 3\u001b[0;31m \u001b[0mreadme\u001b[0m \u001b[0;34m=\u001b[0m \u001b[0mopen\u001b[0m\u001b[0;34m(\u001b[0m\u001b[0;34m'README.rst'\u001b[0m\u001b[0;34m)\u001b[0m\u001b[0;34m.\u001b[0m\u001b[0mread\u001b[0m\u001b[0;34m(\u001b[0m\u001b[0;34m)\u001b[0m\u001b[0;34m\u001b[0m\u001b[0m\n\u001b[0m\u001b[1;32m      4\u001b[0m \u001b[0mhistory\u001b[0m \u001b[0;34m=\u001b[0m \u001b[0mopen\u001b[0m\u001b[0;34m(\u001b[0m\u001b[0;34m'CHANGELOG.md'\u001b[0m\u001b[0;34m)\u001b[0m\u001b[0;34m.\u001b[0m\u001b[0mread\u001b[0m\u001b[0;34m(\u001b[0m\u001b[0;34m)\u001b[0m\u001b[0;34m\u001b[0m\u001b[0m\n\u001b[1;32m      5\u001b[0m \u001b[0;34m\u001b[0m\u001b[0m\n",
      "\u001b[0;31mIOError\u001b[0m: [Errno 2] No such file or directory: 'README.rst'"
     ]
    }
   ],
   "source": [
    "from setuptools import setup\n",
    "\n",
    "readme = open('README.rst').read()\n",
    "history = open('CHANGELOG.md').read()\n",
    "\n",
    "# Loading the version with ``from facepy import __version__`` will\n",
    "# cause setuptools to attempt to import dependencies that we have no\n",
    "# guarantee exist on the system yet, so we'll have to use ``execfile`` to\n",
    "# import the file that contains the version specifically.\n",
    "\n",
    "setup(\n",
    "    name='facepy',\n",
    "    version='1.0.7',  # flake8: noqa\n",
    "    description='Facepy makes it really easy to interact with Facebook\\'s Graph API',\n",
    "    long_description=readme + '\\n\\n' + history,\n",
    "    author='Johannes Gorset',\n",
    "    author_email='jgorset@gmail.com',\n",
    "    url='http://github.com/jgorset/facepy',\n",
    "    packages=['facepy'],\n",
    "    install_requires=['requests >=0.8', 'six >= 1.6'],\n",
    "    classifiers=[\n",
    "        'Development Status :: 5 - Production/Stable',\n",
    "        'Intended Audience :: Developers',\n",
    "        'Natural Language :: English',\n",
    "        'License :: OSI Approved :: MIT License',\n",
    "        'Programming Language :: Python',\n",
    "        'Programming Language :: Python :: 2.6',\n",
    "        'Programming Language :: Python :: 2.7'\n",
    "    ],\n",
    "    zip_safe=False\n",
    ")"
   ]
  },
  {
   "cell_type": "code",
   "execution_count": null,
   "metadata": {
    "collapsed": true
   },
   "outputs": [],
   "source": []
  }
 ],
 "metadata": {
  "kernelspec": {
   "display_name": "Python 2",
   "language": "python",
   "name": "python2"
  },
  "language_info": {
   "codemirror_mode": {
    "name": "ipython",
    "version": 2
   },
   "file_extension": ".py",
   "mimetype": "text/x-python",
   "name": "python",
   "nbconvert_exporter": "python",
   "pygments_lexer": "ipython2",
   "version": "2.7.10"
  }
 },
 "nbformat": 4,
 "nbformat_minor": 0
}
