{
 "cells": [
  {
   "cell_type": "markdown",
   "metadata": {},
   "source": [
    "Question 1: What is the output of \\dt?"
   ]
  },
  {
   "cell_type": "markdown",
   "metadata": {},
   "source": [
    "It shows a table that lists relations showing Schema, Name, Type, Owner"
   ]
  },
  {
   "cell_type": "markdown",
   "metadata": {},
   "source": [
    "Question 2: What is the schema of the customer table?"
   ]
  },
  {
   "cell_type": "markdown",
   "metadata": {},
   "source": [
    "customer_id, store_id, first_name, last_name, email, address_id, activebool, create_date, last_update, active"
   ]
  },
  {
   "cell_type": "markdown",
   "metadata": {},
   "source": [
    "dvdrental=# SELECT * from customer\n",
    "dvdrental-# ;\n",
    "\n",
    " customer_id | store_id | first_name  |  last_name   |                  email                   | address_\n",
    "id | activebool | create_date |     last_update     | active \n",
    "-------------+----------+-------------+--------------+------------------------------------------+---------\n",
    "---+------------+-------------+---------------------+--------\n",
    "           1 |        1 | MARY        | SMITH        | MARY.SMITH@sakilacustomer.org            |         \n",
    " 5 | t          | 2006-02-14  | 2006-02-15 09:57:20 |      1\n",
    "           2 |        1 | PATRICIA    | JOHNSON      | PATRICIA.JOHNSON@sakilacustomer.org      |         \n",
    " 6 | t          | 2006-02-14  | 2006-02-15 09:57:20 |      1\n",
    "           3 |        1 | LINDA       | WILLIAMS     | LINDA.WILLIAMS@sakilacustomer.org        |         \n",
    " 7 | t          | 2006-02-14  | 2006-02-15 09:57:20 |      1\n",
    "           4 |        2 | BARBARA     | JONES        | BARBARA.JONES@sakilacustomer.org         |         \n",
    " 8 | t          | 2006-02-14  | 2006-02-15 09:57:20 |      1\n",
    "           5 |        1 | ELIZABETH   | BROWN        | ELIZABETH.BROWN@sakilacustomer.org       |         \n",
    " 9 | t          | 2006-02-14  | 2006-02-15 09:57:20 |      1\n",
    "           6 |        2 | JENNIFER    | DAVIS        | JENNIFER.DAVIS@sakilacustomer.org        |         \n",
    "10 | t          | 2006-02-14  | 2006-02-15 09:57:20 |      1\n",
    "           7 |        1 | MARIA       | MILLER       | MARIA.MILLER@sakilacustomer.org          |         \n",
    "11 | t          | 2006-02-14  | 2006-02-15 09:57:20 |      1\n",
    "           8 |        2 | SUSAN       | WILSON       | SUSAN.WILSON@sakilacustomer.org          |         \n",
    "12 | t          | 2006-02-14  | 2006-02-15 09:57:20 |      1\n",
    "           9 |        2 | MARGARET    | MOORE        | MARGARET.MOORE@sakilacustomer.org        |         \n",
    "13 | t          | 2006-02-14  | 2006-02-15 09:57:20 |      1\n",
    "          10 |        1 | DOROTHY     | TAYLOR       | DOROTHY.TAYLOR@sakilacustomer.org        |         \n",
    "14 | t          | 2006-02-14  | 2006-02-15 09:57:20 |      1\n",
    "          11 |        2 | LISA        | ANDERSON     | LISA.ANDERSON@sakilacustomer.org         |         \n",
    "15 | t          | 2006-02-14  | 2006-02-15 09:57:20 |      1\n",
    "          12 |        1 | NANCY       | THOMAS       | NANCY.THOMAS@sakilacustomer.org          |         \n",
    "16 | t          | 2006-02-14  | 2006-02-15 09:57:20 |      1\n",
    "          13 |        2 | KAREN       | JACKSON      | KAREN.JACKSON@sakilacustomer.org         |         \n",
    "17 | t          | 2006-02-14  | 2006-02-15 09:57:20 |      1\n",
    "          14 |        2 | BETTY       | WHITE        | BETTY.WHITE@sakilacustomer.org           |         \n",
    "18 | t          | 2006-02-14  | 2006-02-15 09:57:20 |      1\n"
   ]
  },
  {
   "cell_type": "markdown",
   "metadata": {},
   "source": [
    "dvdrental=# SELECT customer_id, \n",
    "dvdrental-# amount,\n",
    "dvdrental-# payment_date\n",
    "dvdrental-# FROM payment\n",
    "dvdrental-# WHERE amount <= 1 or amount >= 8;\n",
    " customer_id | amount |        payment_date        \n",
    "-------------+--------+----------------------------\n",
    "         269 |   0.99 | 2007-01-25 15:16:50.996577\n",
    "         269 |   0.99 | 2007-01-29 00:58:02.996577\n",
    "         271 |   8.99 | 2007-01-31 11:59:15.996577\n",
    "         272 |   0.99 | 2007-01-25 02:47:17.996577\n",
    "         272 |   0.99 | 2007-01-31 08:21:16.996577\n",
    "         273 |   0.99 | 2007-01-30 20:13:45.996577\n",
    "         276 |  10.99 | 2007-01-30 01:13:42.996577\n",
    "         279 |   0.99 | 2007-01-31 01:33:33.996577\n",
    "         282 |   0.99 | 2007-01-28 07:40:35.996577\n",
    "         284 |   0.99 | 2007-01-27 14:01:23.996577\n",
    "         284 |   0.99 | 2007-01-29 14:59:08.996577\n",
    "         287 |   0.99 | 2007-01-27 23:29:47.996577\n",
    "         292 |   0.99 | 2007-01-26 23:28:30.996577\n",
    "         293 |   0.99 | 2007-01-27 17:11:23.996577\n",
    "         293 |   8.99 | 2007-01-31 03:22:06.996577\n",
    "         297 |   0.99 | 2007-01-25 22:14:18.996577\n",
    "         299 |   8.99 | 2007-01-28 13:17:05.996577\n",
    "         300 |   0.99 | 2007-01-27 18:20:55.996577\n",
    "         301 |   0.99 | 2007-01-30 15:27:29.996577\n",
    "         303 |   0.99 | 2007-01-26 14:36:04.996577\n",
    "         304 |  10.99 | 2007-01-25 20:27:24.996577\n",
    "         304 |   0.99 | 2007-01-27 13:20:11.996577\n",
    "         309 |   0.99 | 2007-01-29 04:03:10.996577\n",
    "         310 |   0.99 | 2007-01-25 16:14:59.996577\n",
    "         312 |   0.99 | 2007-01-28 03:41:27.996577\n",
    "         313 |   0.99 | 2007-01-29 12:52:24.996577\n",
    "         313 |   0.99 | 2007-01-29 23:12:50.996577\n",
    "         315 |   8.99 | 2007-01-28 04:49:21.996577\n",
    "         316 |   8.99 | 2007-01-28 17:27:38.996577\n",
    "         318 |   9.99 | 2007-01-26 08:46:53.996577"
   ]
  },
  {
   "cell_type": "markdown",
   "metadata": {},
   "source": [
    "dvdrental=# SELECT \n",
    "dvdrental-# customer_id,\n",
    "dvdrental-# payment_id,\n",
    "dvdrental-# amount\n",
    "dvdrental-# FROM\n",
    "dvdrental-# payment\n",
    "dvdrental-# WHERE\n",
    "dvdrental-# amount BETWEEN 5 AND 9;\n",
    " customer_id | payment_id | amount \n",
    "-------------+------------+--------\n",
    "         269 |      16052 |   6.99\n",
    "         271 |      16058 |   8.99\n",
    "         272 |      16060 |   6.99\n",
    "         272 |      16061 |   6.99\n",
    "         274 |      16068 |   5.99\n",
    "         277 |      16074 |   6.99\n",
    "         282 |      16082 |   6.99\n",
    "         284 |      16086 |   6.99\n",
    "         286 |      16087 |   6.99\n",
    "         288 |      16092 |   6.99\n",
    "         288 |      16094 |   5.99\n",
    "         293 |      16102 |   8.99\n",
    "         296 |      16106 |   5.99\n",
    "         299 |      16112 |   5.99\n",
    "         299 |      16113 |   8.99\n",
    "         301 |      16118 |   5.99\n",
    "         302 |      16121 |   5.99\n",
    "         306 |      16130 |   6.99\n",
    "         307 |      16134 |   6.99\n",
    "         309 |      16136 |   6.99\n",
    "         311 |      16139 |   5.99\n",
    "         311 |      16140 |   6.99\n",
    "         311 |      16143 |   6.99\n",
    "         312 |      16147 |   6.99\n",
    "         314 |      16152 |   5.99\n",
    "         315 |      16154 |   8.99\n"
   ]
  },
  {
   "cell_type": "markdown",
   "metadata": {},
   "source": [
    "Question 3: What similarities do you see in the explain plains for these 3 queries?"
   ]
  },
  {
   "cell_type": "markdown",
   "metadata": {},
   "source": [
    "Customer_id is present on all queries. In the first one is the primary key and in the last two is the foreign key. In the last two queries the primary key is the payment_id"
   ]
  },
  {
   "cell_type": "markdown",
   "metadata": {},
   "source": [
    "dvdrental=# SELECT u.customer_id,sum(u.amount) from (\n",
    "dvdrental(# SELECT *\n",
    "dvdrental(# FROM\n",
    "dvdrental(# payment_p2007_01\n",
    "dvdrental(# UNION\n",
    "dvdrental(# SELECT *\n",
    "dvdrental(# FROM\n",
    "dvdrental(# payment_p2007_02\n",
    "dvdrental(# ) u\n",
    "dvdrental-# WHERE u.payment_date <= '2007-02-01 00:00:00'::timestamp\n",
    "dvdrental-# without time zone\n",
    "dvdrental-# GROUP BY u.customer_id\n",
    "dvdrental-# ;\n",
    " customer_id |  sum  \n",
    "-------------+-------\n",
    "         251 | 19.94\n",
    "         106 |  4.98\n",
    "         120 |  8.98\n",
    "         497 |  7.99\n",
    "         305 |  2.99\n",
    "         551 | 20.95\n",
    "         318 |  9.99\n",
    "         312 | 17.96\n",
    "         452 |  7.97\n",
    "         179 | 12.97\n",
    "         496 |  5.98\n",
    "         455 |  1.98\n",
    "         470 |  2.99\n",
    "         542 |  9.98\n"
   ]
  },
  {
   "cell_type": "markdown",
   "metadata": {},
   "source": [
    "dvdrental=# SELECT customer_id, sum(amount) from\n",
    "dvdrental-# payment\n",
    "dvdrental-# WHERE payment_date <= '2007-02-01 00:00:00'::timestamp\n",
    "dvdrental-# without time zone\n",
    "dvdrental-# GROUP BY customer_id\n",
    "dvdrental-# ;\n",
    " customer_id |  sum  \n",
    "-------------+-------\n",
    "         251 | 19.94\n",
    "         106 |  4.98\n",
    "         120 |  8.98\n",
    "         305 |  2.99\n",
    "         497 |  7.99\n",
    "         551 | 20.95\n",
    "         318 |  9.99\n",
    "         312 | 17.96\n",
    "         452 |  7.97\n",
    "         179 | 12.97\n",
    "         496 |  5.98\n",
    "         455 |  1.98\n",
    "         470 |  2.99\n",
    "         542 |  9.98\n",
    "         571 | 13.98\n",
    "         209 | 13.97\n",
    "         276 | 14.98\n",
    "         577 |  6.98\n",
    "         110 |  9.98\n",
    "         550 |  7.99\n",
    "         599 |  4.99\n",
    "          99 |  0.99\n",
    "          48 |  8.97\n",
    "          28 |  5.98\n",
    "         313 |  9.96\n",
    "          94 |  7.98\n",
    "         262 |  4.99\n",
    "         362 |  4.99\n"
   ]
  },
  {
   "cell_type": "markdown",
   "metadata": {},
   "source": [
    "Question 4: What is the difference between the plans for the Partitioned table and the union query? Why do you think this difference exists?"
   ]
  },
  {
   "cell_type": "markdown",
   "metadata": {},
   "source": [
    "It seems like the first query uses the first months od the year 2007 while the second query might use a longer period. Though at first glance both datasets look the same, it seems to me that the second one may turn out to show larger amounts."
   ]
  },
  {
   "cell_type": "markdown",
   "metadata": {},
   "source": [
    "dvdrental=# SELECT\n",
    "dvdrental-# customer.customer_id,\n",
    "dvdrental-# first_name,\n",
    "dvdrental-# last_name,\n",
    "dvdrental-# email,\n",
    "dvdrental-# amount,\n",
    "dvdrental-# payment_date\n",
    "dvdrental-# FROM\n",
    "dvdrental-# customer\n",
    "dvdrental-# INNER JOIN payment ON payment.customer_id = customer.customer_id;\n",
    " customer_id | first_name  |  last_name   |                  email                   | \n",
    "amount |        payment_date        \n",
    "-------------+-------------+--------------+------------------------------------------+-\n",
    "-------+----------------------------\n",
    "         269 | CASSANDRA   | WALTERS      | CASSANDRA.WALTERS@sakilacustomer.org     | \n",
    "  1.99 | 2007-01-24 21:40:19.996577\n",
    "         269 | CASSANDRA   | WALTERS      | CASSANDRA.WALTERS@sakilacustomer.org     | \n",
    "  0.99 | 2007-01-25 15:16:50.996577\n",
    "         269 | CASSANDRA   | WALTERS      | CASSANDRA.WALTERS@sakilacustomer.org     | \n",
    "  6.99 | 2007-01-28 21:44:14.996577\n",
    "         269 | CASSANDRA   | WALTERS      | CASSANDRA.WALTERS@sakilacustomer.org     | \n",
    "  0.99 | 2007-01-29 00:58:02.996577\n",
    "         269 | CASSANDRA   | WALTERS      | CASSANDRA.WALTERS@sakilacustomer.org     | \n",
    "  4.99 | 2007-01-29 08:10:06.996577\n",
    "         269 | CASSANDRA   | WALTERS      | CASSANDRA.WALTERS@sakilacustomer.org     | \n",
    "  2.99 | 2007-01-31 12:23:14.996577\n",
    "         270 | LEAH        | CURTIS    "
   ]
  },
  {
   "cell_type": "markdown",
   "metadata": {},
   "source": [
    "Question 5: What join algorithm is used for the inner join? "
   ]
  },
  {
   "cell_type": "markdown",
   "metadata": {},
   "source": [
    "It matches the customer_id from the customer table with the customer_id that appears in the payment table"
   ]
  }
 ],
 "metadata": {
  "kernelspec": {
   "display_name": "Python 2",
   "language": "python",
   "name": "python2"
  },
  "language_info": {
   "codemirror_mode": {
    "name": "ipython",
    "version": 2
   },
   "file_extension": ".py",
   "mimetype": "text/x-python",
   "name": "python",
   "nbconvert_exporter": "python",
   "pygments_lexer": "ipython2",
   "version": "2.7.10"
  }
 },
 "nbformat": 4,
 "nbformat_minor": 0
}
