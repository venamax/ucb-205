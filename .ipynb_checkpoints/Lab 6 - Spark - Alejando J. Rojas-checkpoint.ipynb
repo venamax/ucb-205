{
 "cells": [
  {
   "cell_type": "markdown",
   "metadata": {},
   "source": [
    "Submission 1"
   ]
  },
  {
   "cell_type": "markdown",
   "metadata": {},
   "source": [
    ">>> narcoticsCrimeTuples.take(10)\n",
    "\n",
    "[(u'10184515', u'10184515,HY372204,08/06/2015 11:55:00 PM,033XX W DIVERSEY AVE,2027,NARCOTICS,POSS: CRACK,STREET,true,false,1412,014,35,22,18,1153440,1918377,2015,08/13/2015 12:57:42 PM,41.931870591,-87.711546895,\"(41.931870591, -87.711546895)\"'), (u'10184524', u'10184524,HY372200,08/06/2015 11:40:00 PM,002XX W 88TH ST,1811,NARCOTICS,POSS: CANNABIS 30GMS OR LESS,STREET,true,false,0634,006,21,49,18,1175866,1846548,2015,08/13/2015 12:57:42 PM,41.7342901,-87.631292466,\"(41.7342901, -87.631292466)\"'), (u'10184554', u'10184554,HY372217,08/06/2015 11:38:00 PM,078XX S PAULINA ST,2028,NARCOTICS,POSS: SYNTHETIC DRUGS,STREET,true,false,0611,006,17,71,18,1166342,1852418,2015,08/13/2015 12:57:42 PM,41.750606117,-87.666017303,\"(41.750606117, -87.666017303)\"'), (u'10184503', u'10184503,HY372179,08/06/2015 11:35:00 PM,019XX N MOZART ST,2022,NARCOTICS,POSS: COCAINE,STREET,true,false,1421,014,35,22,18,1157157,1912657,2015,08/13/2015 12:57:42 PM,41.916099694,-87.698043163,\"(41.916099694, -87.698043163)\"'), (u'10184527', u'10184527,HY372190,08/06/2015 11:32:00 PM,015XX W HOWARD ST,1811,NARCOTICS,POSS: CANNABIS 30GMS OR LESS,STREET,true,false,2422,024,49,1,18,1164729,1950306,2015,08/13/2015 12:57:42 PM,42.01925275,-87.669151816,\"(42.01925275, -87.669151816)\"'), (u'10184512', u'10184512,HY372194,08/06/2015 11:30:00 PM,054XX W NORTH AVE,1811,NARCOTICS,POSS: CANNABIS 30GMS OR LESS,VEHICLE NON-COMMERCIAL,true,false,2532,025,37,25,18,1140150,1910150,2015,08/13/2015 12:57:42 PM,41.909548902,-87.760588145,\"(41.909548902, -87.760588145)\"'), (u'10184523', u'10184523,HY372175,08/06/2015 10:51:00 PM,038XX W NORTH AVE,1811,NARCOTICS,POSS: CANNABIS 30GMS OR LESS,SIDEWALK,true,false,2535,025,30,23,18,1150304,1910396,2015,08/13/2015 12:57:42 PM,41.910031837,-87.723279946,\"(41.910031837, -87.723279946)\"'), (u'10184476', u'10184476,HY372146,08/06/2015 10:50:00 PM,0000X N KEELER AVE,1811,NARCOTICS,POSS: CANNABIS 30GMS OR LESS,STREET,true,false,1115,011,28,26,18,1148430,1899795,2015,08/13/2015 12:57:42 PM,41.880977936,-87.730437982,\"(41.880977936, -87.730437982)\"'), (u'10184477', u'10184477,HY372136,08/06/2015 10:45:00 PM,053XX W CHICAGO AVE,1821,NARCOTICS,MANU/DEL:CANNABIS 10GM OR LESS,SIDEWALK,true,false,1524,015,37,25,18,1140456,1904773,2015,08/13/2015 12:57:42 PM,41.894788171,-87.759596124,\"(41.894788171, -87.759596124)\"'), (u'10184468', u'10184468,HY372144,08/06/2015 10:45:00 PM,002XX E 108TH ST,2028,NARCOTICS,POSS: SYNTHETIC DRUGS,STREET,true,false,0513,005,9,49,18,1179863,1833448,2015,08/13/2015 12:57:42 PM,41.698251605,-87.617048656,\"(41.698251605, -87.617048656)\"')]"
   ]
  },
  {
   "cell_type": "markdown",
   "metadata": {},
   "source": [
    ">>> sorted.take(10)\n",
    "\n",
    "[(u'10000014', u'10000014,HY189846,03/18/2015 05:52:00 PM,107XX S EGGLESTON AVE,1822,NARCOTICS,MANU/DEL:CANNABIS OVER 10 GMS,RESIDENCE,true,false,2233,022,34,49,18,1175162,1833372,2015,03/25/2015 12:42:30 PM,41.698149046,-87.634263523,\"(41.698149046, -87.634263523)\"'), (u'10000015', u'10000015,HY190002,03/18/2015 10:00:00 PM,001XX S SPRINGFIELD AVE,2027,NARCOTICS,POSS: CRACK,SIDEWALK,true,false,1122,011,28,26,18,1150447,1899324,2015,03/25/2015 12:42:30 PM,41.879646339,-87.723043936,\"(41.879646339, -87.723043936)\"'), (u'10000018', u'10000018,HY189982,03/18/2015 09:20:00 PM,018XX E 75TH ST,2028,NARCOTICS,POSS: SYNTHETIC DRUGS,STREET,true,false,0324,003,8,43,18,1189965,1855654,2015,03/25/2015 12:42:30 PM,41.758950606,-87.579348528,\"(41.758950606, -87.579348528)\"'), (u'10000032', u'10000032,HY190005,03/18/2015 10:00:00 PM,078XX S KEDZIE AVE,2024,NARCOTICS,POSS: HEROIN(WHITE),STREET,true,false,0835,008,18,70,18,1156360,1852673,2015,03/25/2015 12:42:30 PM,41.751512505,-87.702589481,\"(41.751512505, -87.702589481)\"'), (u'10000033', u'10000033,HY189981,03/18/2015 09:45:00 PM,032XX W 23RD ST,1811,NARCOTICS,POSS: CANNABIS 30GMS OR LESS,SIDEWALK,true,false,1024,010,22,30,18,1154889,1888566,2015,03/25/2015 12:42:30 PM,41.850037381,-87.707021653,\"(41.850037381, -87.707021653)\"'), (u'10000036', u'10000036,HY189959,03/18/2015 09:37:00 PM,079XX S LOOMIS BLVD,1811,NARCOTICS,POSS: CANNABIS 30GMS OR LESS,STREET,true,false,0612,006,21,71,18,1168414,1852212,2015,03/25/2015 12:42:30 PM,41.749996475,-87.658430431,\"(41.749996475, -87.658430431)\"'), (u'10000038', u'10000038,HY189993,03/18/2015 10:00:00 PM,055XX N WESTERN AVE,1811,NARCOTICS,POSS: CANNABIS 30GMS OR LESS,STREET,true,false,2012,020,40,4,18,1159361,1936925,2015,03/25/2015 12:42:30 PM,41.982647434,-87.689275782,\"(41.982647434, -87.689275782)\"'), (u'10000049', u'10000049,HY190034,03/18/2015 10:45:00 PM,003XX N WALLER AVE,1811,NARCOTICS,POSS: CANNABIS 30GMS OR LESS,SIDEWALK,true,false,1512,015,29,25,18,1138053,1901603,2015,03/25/2015 12:42:30 PM,41.886133043,-87.768498451,\"(41.886133043, -87.768498451)\"'), (u'10000050', u'10000050,HY190024,03/18/2015 09:55:00 PM,015XX S CALIFORNIA BLVD,2093,NARCOTICS,FOUND SUSPECT NARCOTICS,HOSPITAL BUILDING/GROUNDS,true,false,1022,010,12,29,26,1157891,1892607,2015,03/25/2015 12:42:30 PM,41.861065709,-87.695893691,\"(41.861065709, -87.695893691)\"'), (u'10000058', u'10000058,HY190039,03/18/2015 10:38:00 PM,120XX S LAFAYETTE AVE,1811,NARCOTICS,POSS: CANNABIS 30GMS OR LESS,RESIDENTIAL YARD (FRONT/BACK),true,false,0523,005,9,53,18,1178055,1825033,2015,03/25/2015 12:42:30 PM,41.675200673,-87.623922325,\"(41.675200673, -87.623922325)\"')]"
   ]
  },
  {
   "cell_type": "markdown",
   "metadata": {},
   "source": [
    "The main issue with the tuple is that it only has two elements: the key and one value that includes many records separated by commas. Ideally you want the tuple to have one key and a set of values associated to that key. We can do that by using a command like this: (lambda l: l.split('\\t'))"
   ]
  },
  {
   "cell_type": "markdown",
   "metadata": {},
   "source": [
    "Sunmission 2"
   ]
  },
  {
   "cell_type": "markdown",
   "metadata": {},
   "source": [
    ">>> ebay = sqlContext.sql('SELECT count(*) FROM Web_Session_Log WHERE REFERERURL = \"http://www.ebay.com\"')\n",
    ">>> ebay.show()\n",
    "\n",
    "c0  \n",
    "3943\n",
    "\n",
    "There were 3943 referals from ebay.com"
   ]
  },
  {
   "cell_type": "markdown",
   "metadata": {},
   "source": [
    "Submission 3"
   ]
  },
  {
   "cell_type": "markdown",
   "metadata": {},
   "source": [
    ">>> results = sqlContext.sql('SELECT * FROM Web_Session_Log')\n",
    ">>> results.show()\n",
    "\n",
    "Traceback (most recent call last):\n",
    "  File \"/usr/lib/spark/python/pyspark/daemon.py\", line 162, in manager\n",
    "    code = worker(sock)\n",
    "  File \"/usr/lib/spark/python/pyspark/daemon.py\", line 64, in worker\n",
    "    outfile.flush()\n",
    "IOError: [Errno 32] Broken pipe\n",
    "DATETIME            USERID               SESSIONID            PRODUCTID          REFERERURL          \n",
    "date                userid               sessionid            productid          refererurl          \n",
    "2008-01-31 15:54:25 __RequestVerifica... ;+.ASPXAUTH=C31HD... /product/YJ29IOCVQ http://www.abc.com  \n",
    "2005-12-08 02:36:30 __RequestVerifica... ;+.ASPXAUTH=H7HTS... /product/MVI9HHP8A http://www.ebay.com \n",
    "2015-06-07 23:27:58 __RequestVerifica... ;+.ASPXAUTH=58SZL... /search/P5XKO3AC9  http://www.abc.com  \n",
    "2009-03-12 03:16:27 __RequestVerifica... ;+.ASPXAUTH=VBWZJ... /product/A13025WBT http://www.shophe...\n",
    "2014-07-23 08:36:03 __RequestVerifica... ;+.ASPXAUTH=VXBLE... /search/5PI9XD6LZ  http://www.facebo...\n",
    "2002-12-30 08:42:09 __RequestVerifica... ;+.ASPXAUTH=YABJB... /product/WS80XJFW2 http://www.xyz.com  \n",
    "2004-11-03 20:29:10 __RequestVerifica... ;+.ASPXAUTH=2F90N... /product/OJ201IBUN http://www.homesh...\n",
    "2012-01-26 12:39:57 __RequestVerifica... ;+.ASPXAUTH=SEWRR... /product/OA3QGXF1U http://www.xyz.com  \n",
    "2008-04-30 02:01:34 __RequestVerifica... ;+.ASPXAUTH=6OB10... /search/K1IRBE1DU  http://www.abc.com  \n",
    "2003-08-23 09:44:43 __RequestVerifica... ;+.ASPXAUTH=1NRGS... /product/ANGEKDMKM http://www.shophe...\n",
    "2008-04-09 01:24:24 __RequestVerifica... ;+.ASPXAUTH=2Y8NA... /product/LC94NBS9A http://www.facebo...\n",
    "2000-08-07 06:45:19 __RequestVerifica... ;+.ASPXAUTH=KS9LL... /search/HDKWJ5ORV  http://www.facebo...\n",
    "2013-10-09 05:22:31 __RequestVerifica... ;+.ASPXAUTH=UA1WH... /search/5LPS3BTJI  http://www.facebo...\n",
    "2006-07-31 08:12:44 __RequestVerifica... ;+.ASPXAUTH=GDVM0... /search/BW80TIDQP  http://www.xyz.com  \n",
    "2014-07-27 13:23:18 __RequestVerifica... ;+.ASPXAUTH=OY5S5... /search/D5S8HFH9D  http://www.facebo...\n",
    "2001-01-10 18:23:03 __RequestVerifica... ;+.ASPXAUTH=VMOYI... /product/I8VLXARNQ http://www.xyz.com  \n",
    "2011-09-24 21:28:13 __RequestVerifica... ;+.ASPXAUTH=SDVEA... /search/S44PIHRYX  http://www.shophe...\n",
    "2008-09-19 02:52:53 __RequestVerifica... ;+.ASPXAUTH=7NEBV... /search/CX28DBZYW  http://www.shophe...\n",
    "2006-03-01 20:10:27 __RequestVerifica... ;+.ASPXAUTH=K58W1... /product/GG8EXER8K http://www.amazon..."
   ]
  }
 ],
 "metadata": {
  "kernelspec": {
   "display_name": "Python 2",
   "language": "python",
   "name": "python2"
  },
  "language_info": {
   "codemirror_mode": {
    "name": "ipython",
    "version": 2
   },
   "file_extension": ".py",
   "mimetype": "text/x-python",
   "name": "python",
   "nbconvert_exporter": "python",
   "pygments_lexer": "ipython2",
   "version": "2.7.10"
  }
 },
 "nbformat": 4,
 "nbformat_minor": 0
}
